{
 "cells": [
  {
   "cell_type": "markdown",
   "id": "8edc6035",
   "metadata": {},
   "source": [
    "# Numpy\n",
    "\n",
    "## 1. Set up\n",
    "\n",
    "To install numpy run:\n",
    "\n",
    "```\n",
    "pip install numpy\n",
    "```\n",
    "\n",
    "In a terminal, or the following cell:"
   ]
  },
  {
   "cell_type": "code",
   "execution_count": 2,
   "id": "7abd6488",
   "metadata": {},
   "outputs": [
    {
     "name": "stdout",
     "output_type": "stream",
     "text": [
      "Requirement already satisfied: numpy in ./.venv/lib/python3.12/site-packages (2.3.4)\n"
     ]
    }
   ],
   "source": [
    "!pip install numpy"
   ]
  },
  {
   "cell_type": "code",
   "execution_count": 3,
   "id": "995f61ab",
   "metadata": {},
   "outputs": [
    {
     "name": "stdout",
     "output_type": "stream",
     "text": [
      "Numpy version: 2.3.4\n"
     ]
    }
   ],
   "source": [
    "import numpy as np\n",
    "print(\"Numpy version:\", np.__version__)"
   ]
  },
  {
   "cell_type": "markdown",
   "id": "928d95b7",
   "metadata": {},
   "source": [
    "## 2. Creating arrays\n",
    "\n",
    "### 2.1. From lists"
   ]
  },
  {
   "cell_type": "code",
   "execution_count": 4,
   "id": "e7f9a0b4",
   "metadata": {},
   "outputs": [],
   "source": [
    "arr_1d = np.array([1, 2, 3, 4, 5])"
   ]
  },
  {
   "cell_type": "code",
   "execution_count": 5,
   "id": "1242adbe",
   "metadata": {},
   "outputs": [
    {
     "name": "stdout",
     "output_type": "stream",
     "text": [
      "[1 2 3 4 5]\n"
     ]
    }
   ],
   "source": [
    "print(arr_1d)"
   ]
  },
  {
   "cell_type": "code",
   "execution_count": 6,
   "id": "0a18339c",
   "metadata": {},
   "outputs": [
    {
     "name": "stdout",
     "output_type": "stream",
     "text": [
      "<class 'numpy.ndarray'>\n"
     ]
    }
   ],
   "source": [
    "print(type(arr_1d))"
   ]
  },
  {
   "cell_type": "code",
   "execution_count": 7,
   "id": "a342f386",
   "metadata": {},
   "outputs": [
    {
     "name": "stdout",
     "output_type": "stream",
     "text": [
      "[[1 2 3]\n",
      " [4 5 6]]\n"
     ]
    }
   ],
   "source": [
    "arr_2d = np.array([[1, 2, 3], [4, 5, 6]])\n",
    "print(arr_2d)"
   ]
  },
  {
   "cell_type": "markdown",
   "id": "f21a630f",
   "metadata": {},
   "source": [
    "### 2.2. Using built-in functions"
   ]
  },
  {
   "cell_type": "code",
   "execution_count": 8,
   "id": "13b54184",
   "metadata": {},
   "outputs": [
    {
     "name": "stdout",
     "output_type": "stream",
     "text": [
      "[[0. 0. 0. 0.]\n",
      " [0. 0. 0. 0.]\n",
      " [0. 0. 0. 0.]]\n"
     ]
    }
   ],
   "source": [
    "zero_array = np.zeros((3,4))\n",
    "print(zero_array)"
   ]
  },
  {
   "cell_type": "code",
   "execution_count": 9,
   "id": "abbe3efa",
   "metadata": {},
   "outputs": [
    {
     "name": "stdout",
     "output_type": "stream",
     "text": [
      "[[1. 1. 1. 1.]\n",
      " [1. 1. 1. 1.]\n",
      " [1. 1. 1. 1.]]\n"
     ]
    }
   ],
   "source": [
    "const_array = np.full((3,4), 1.0)\n",
    "print(const_array)"
   ]
  },
  {
   "cell_type": "markdown",
   "id": "02786d71",
   "metadata": {},
   "source": [
    "## 3. Array attributes\n",
    "\n",
    "For more info, check out the [array attributes](https://numpy.org/doc/stable/reference/arrays.ndarray.html#array-attributes) section of the NumPy API reference."
   ]
  },
  {
   "cell_type": "code",
   "execution_count": 10,
   "id": "7b69f964",
   "metadata": {},
   "outputs": [
    {
     "data": {
      "text/plain": [
       "(3, 4)"
      ]
     },
     "execution_count": 10,
     "metadata": {},
     "output_type": "execute_result"
    }
   ],
   "source": [
    "const_array.shape"
   ]
  },
  {
   "cell_type": "code",
   "execution_count": 11,
   "id": "ac508dbe",
   "metadata": {},
   "outputs": [
    {
     "data": {
      "text/plain": [
       "dtype('float64')"
      ]
     },
     "execution_count": 11,
     "metadata": {},
     "output_type": "execute_result"
    }
   ],
   "source": [
    "const_array.dtype"
   ]
  },
  {
   "cell_type": "code",
   "execution_count": 12,
   "id": "4515f5fb",
   "metadata": {},
   "outputs": [
    {
     "data": {
      "text/plain": [
       "96"
      ]
     },
     "execution_count": 12,
     "metadata": {},
     "output_type": "execute_result"
    }
   ],
   "source": [
    "const_array.nbytes"
   ]
  },
  {
   "cell_type": "markdown",
   "id": "f7d9a44f",
   "metadata": {},
   "source": [
    "## 4. Array function & operations\n",
    "\n",
    "For more info on avalible operations and their behavior see the following in the NumPy API documentation:\n",
    "\n",
    "1. [Functions and methods overview](https://numpy.org/doc/stable/user/quickstart.html#functions-and-methods-overview) \n",
    "2. [Array methods](https://numpy.org/doc/stable/reference/arrays.ndarray.html#array-methods)\n",
    "3. [Arithmetic, matrix multiplication, and comparison operations](https://numpy.org/doc/stable/reference/arrays.ndarray.html#arithmetic-matrix-multiplication-and-comparison-operations)\n",
    "\n",
    "### 4.1. Arithmetic operations"
   ]
  },
  {
   "cell_type": "code",
   "execution_count": 13,
   "id": "1f6dde53",
   "metadata": {},
   "outputs": [],
   "source": [
    "a = np.array([10,20,30,40])\n",
    "b = np.array([1,2,3,4])\n",
    "c = np.array([1])"
   ]
  },
  {
   "cell_type": "code",
   "execution_count": 14,
   "id": "44401251",
   "metadata": {},
   "outputs": [
    {
     "name": "stdout",
     "output_type": "stream",
     "text": [
      "[11 22 33 44]\n"
     ]
    }
   ],
   "source": [
    "print(a + b)"
   ]
  },
  {
   "cell_type": "code",
   "execution_count": 15,
   "id": "e2330dce",
   "metadata": {},
   "outputs": [
    {
     "name": "stdout",
     "output_type": "stream",
     "text": [
      "[ 9 18 27 36]\n"
     ]
    }
   ],
   "source": [
    "print(a - b)"
   ]
  },
  {
   "cell_type": "code",
   "execution_count": 16,
   "id": "29065808",
   "metadata": {},
   "outputs": [
    {
     "name": "stdout",
     "output_type": "stream",
     "text": [
      "[11 21 31 41]\n"
     ]
    }
   ],
   "source": [
    "print(a + c)"
   ]
  },
  {
   "cell_type": "code",
   "execution_count": 17,
   "id": "ab77f3e7",
   "metadata": {},
   "outputs": [
    {
     "name": "stdout",
     "output_type": "stream",
     "text": [
      "[20 40 60 80]\n"
     ]
    }
   ],
   "source": [
    "print(a * 2)"
   ]
  },
  {
   "cell_type": "code",
   "execution_count": 29,
   "id": "d7614236",
   "metadata": {},
   "outputs": [
    {
     "name": "stdout",
     "output_type": "stream",
     "text": [
      "[1 2 3 4 5 6]\n",
      "<class 'numpy.ndarray'>\n"
     ]
    }
   ],
   "source": [
    "list_a = [1,2,3]\n",
    "list_b = [4,5,6]\n",
    "\n",
    "new_array = np.array(list_a + list_b)\n",
    "print(new_array)\n",
    "print(type(new_array))"
   ]
  },
  {
   "cell_type": "markdown",
   "id": "ea5d335a",
   "metadata": {},
   "source": [
    "### 4.2. Statistical methods"
   ]
  },
  {
   "cell_type": "code",
   "execution_count": 19,
   "id": "28dea160",
   "metadata": {},
   "outputs": [
    {
     "name": "stdout",
     "output_type": "stream",
     "text": [
      "25.0\n"
     ]
    }
   ],
   "source": [
    "print(np.mean(a))"
   ]
  },
  {
   "cell_type": "code",
   "execution_count": 20,
   "id": "7e42549d",
   "metadata": {},
   "outputs": [
    {
     "name": "stdout",
     "output_type": "stream",
     "text": [
      "100\n"
     ]
    }
   ],
   "source": [
    "print(np.sum(a))"
   ]
  },
  {
   "cell_type": "markdown",
   "id": "2fd275a1",
   "metadata": {},
   "source": [
    "### 4.3. Methods on axes"
   ]
  },
  {
   "cell_type": "code",
   "execution_count": 33,
   "id": "7dd98080",
   "metadata": {},
   "outputs": [
    {
     "name": "stdout",
     "output_type": "stream",
     "text": [
      "[[1 2 3]\n",
      " [4 5 6]]\n",
      "3.5\n"
     ]
    }
   ],
   "source": [
    "print(arr_2d)\n",
    "print(np.mean(arr_2d))"
   ]
  },
  {
   "cell_type": "code",
   "execution_count": 34,
   "id": "6f8e0e30",
   "metadata": {},
   "outputs": [
    {
     "name": "stdout",
     "output_type": "stream",
     "text": [
      "(2, 3)\n"
     ]
    }
   ],
   "source": [
    "print(arr_2d.shape)"
   ]
  },
  {
   "cell_type": "code",
   "execution_count": 35,
   "id": "9de62504",
   "metadata": {},
   "outputs": [
    {
     "name": "stdout",
     "output_type": "stream",
     "text": [
      "[2.5 3.5 4.5]\n"
     ]
    }
   ],
   "source": [
    "print(np.mean(arr_2d, axis=0))"
   ]
  },
  {
   "cell_type": "markdown",
   "id": "5bf9acc2",
   "metadata": {},
   "source": [
    "### 4.4. Shape manipulation"
   ]
  },
  {
   "cell_type": "code",
   "execution_count": 36,
   "id": "29174954",
   "metadata": {},
   "outputs": [
    {
     "name": "stdout",
     "output_type": "stream",
     "text": [
      "[ 0  1  2  3  4  5  6  7  8  9 10 11]\n"
     ]
    }
   ],
   "source": [
    "arr = np.arange(12)\n",
    "print(arr)"
   ]
  },
  {
   "cell_type": "code",
   "execution_count": 39,
   "id": "e4682367",
   "metadata": {},
   "outputs": [
    {
     "name": "stdout",
     "output_type": "stream",
     "text": [
      "[[ 0  1  2  3  4  5]\n",
      " [ 6  7  8  9 10 11]]\n"
     ]
    }
   ],
   "source": [
    "new_arr = arr.reshape(2,6)\n",
    "print(new_arr)"
   ]
  },
  {
   "cell_type": "code",
   "execution_count": 40,
   "id": "a3934909",
   "metadata": {},
   "outputs": [
    {
     "name": "stdout",
     "output_type": "stream",
     "text": [
      "[[10 20 30 40]\n",
      " [ 1  2  3  4]]\n"
     ]
    }
   ],
   "source": [
    "a = np.array([10,20,30,40])\n",
    "b = np.array([1,2,3,4])\n",
    "\n",
    "vstacked = np.vstack([a, b])\n",
    "print(vstacked)"
   ]
  },
  {
   "cell_type": "code",
   "execution_count": null,
   "id": "a81fb4f5",
   "metadata": {},
   "outputs": [
    {
     "name": "stdout",
     "output_type": "stream",
     "text": [
      "[10 20 30 40  1  2  3  4]\n"
     ]
    }
   ],
   "source": [
    "hstack = np.hstack([a, b])\n",
    "print(hstack)"
   ]
  },
  {
   "cell_type": "code",
   "execution_count": 48,
   "id": "2831f367",
   "metadata": {},
   "outputs": [
    {
     "name": "stdout",
     "output_type": "stream",
     "text": [
      "[[10  1]\n",
      " [20  2]\n",
      " [30  3]\n",
      " [40  4]]\n"
     ]
    }
   ],
   "source": [
    "a = np.array([\n",
    "    [10],\n",
    "    [20],\n",
    "    [30],\n",
    "    [40]\n",
    "])\n",
    "\n",
    "b = np.array([\n",
    "    [1],\n",
    "    [2],\n",
    "    [3],\n",
    "    [4]\n",
    "])\n",
    "\n",
    "hstack = np.hstack([a, b])\n",
    "print(hstack)"
   ]
  },
  {
   "cell_type": "markdown",
   "id": "54658a8f",
   "metadata": {},
   "source": [
    "### 4.5. Conversion"
   ]
  },
  {
   "cell_type": "code",
   "execution_count": 49,
   "id": "1800c4ed",
   "metadata": {},
   "outputs": [
    {
     "data": {
      "text/plain": [
       "dtype('int64')"
      ]
     },
     "execution_count": 49,
     "metadata": {},
     "output_type": "execute_result"
    }
   ],
   "source": [
    "b.dtype"
   ]
  },
  {
   "cell_type": "code",
   "execution_count": 54,
   "id": "7cdb5aeb",
   "metadata": {},
   "outputs": [
    {
     "name": "stdout",
     "output_type": "stream",
     "text": [
      "float32\n"
     ]
    }
   ],
   "source": [
    "b_float = b.astype(np.float32)\n",
    "print(b_float.dtype)"
   ]
  },
  {
   "cell_type": "code",
   "execution_count": 51,
   "id": "62428632",
   "metadata": {},
   "outputs": [
    {
     "name": "stdout",
     "output_type": "stream",
     "text": [
      "[[1.]\n",
      " [2.]\n",
      " [3.]\n",
      " [4.]]\n"
     ]
    }
   ],
   "source": [
    "print(b_float)"
   ]
  },
  {
   "cell_type": "markdown",
   "id": "f0d494d7",
   "metadata": {},
   "source": [
    "## 5. Selecting data\n",
    "\n",
    "For more info, see the [Indexing, slicing and iterating](https://numpy.org/doc/stable/user/quickstart.html#quickstart-indexing-slicing-and-iterating) section in the NumPy User Guide."
   ]
  },
  {
   "cell_type": "markdown",
   "id": "d1bda39c",
   "metadata": {},
   "source": [
    "### 5.1. Indexing"
   ]
  },
  {
   "cell_type": "code",
   "execution_count": 55,
   "id": "e16960e0",
   "metadata": {},
   "outputs": [],
   "source": [
    "a = np.array([10,20,30,40])"
   ]
  },
  {
   "cell_type": "code",
   "execution_count": 56,
   "id": "58088e31",
   "metadata": {},
   "outputs": [
    {
     "name": "stdout",
     "output_type": "stream",
     "text": [
      "10\n"
     ]
    }
   ],
   "source": [
    "print(a[0])"
   ]
  },
  {
   "cell_type": "code",
   "execution_count": 57,
   "id": "de833fdb",
   "metadata": {},
   "outputs": [
    {
     "name": "stdout",
     "output_type": "stream",
     "text": [
      "[[10 20 30 40]\n",
      " [ 1  2  3  4]]\n"
     ]
    }
   ],
   "source": [
    "print(vstacked)"
   ]
  },
  {
   "cell_type": "code",
   "execution_count": 59,
   "id": "1977a044",
   "metadata": {},
   "outputs": [
    {
     "name": "stdout",
     "output_type": "stream",
     "text": [
      "40\n"
     ]
    }
   ],
   "source": [
    "print(vstacked[0][-1])"
   ]
  },
  {
   "cell_type": "code",
   "execution_count": 60,
   "id": "eb05d805",
   "metadata": {},
   "outputs": [
    {
     "name": "stdout",
     "output_type": "stream",
     "text": [
      "40\n"
     ]
    }
   ],
   "source": [
    "print(vstacked[0, -1])"
   ]
  },
  {
   "cell_type": "code",
   "execution_count": 62,
   "id": "bf63341c",
   "metadata": {},
   "outputs": [
    {
     "name": "stdout",
     "output_type": "stream",
     "text": [
      "40\n"
     ]
    }
   ],
   "source": [
    "python_lol = [[10, 20, 30, 40],\n",
    "              [1,  2,  3,  4]]\n",
    "\n",
    "print(python_lol[0][-1])"
   ]
  },
  {
   "cell_type": "markdown",
   "id": "43f41dbd",
   "metadata": {},
   "source": [
    "### 5.2. Slicing"
   ]
  },
  {
   "cell_type": "code",
   "execution_count": 63,
   "id": "a23d457f",
   "metadata": {},
   "outputs": [
    {
     "name": "stdout",
     "output_type": "stream",
     "text": [
      "[[10 20 30 40]\n",
      " [ 1  2  3  4]]\n"
     ]
    }
   ],
   "source": [
    "print(vstacked)"
   ]
  },
  {
   "cell_type": "code",
   "execution_count": 64,
   "id": "6a7ce38e",
   "metadata": {},
   "outputs": [
    {
     "name": "stdout",
     "output_type": "stream",
     "text": [
      "[10 20 30 40]\n"
     ]
    }
   ],
   "source": [
    "print(vstacked[0, :])"
   ]
  },
  {
   "cell_type": "code",
   "execution_count": 65,
   "id": "fc05abc3",
   "metadata": {},
   "outputs": [
    {
     "name": "stdout",
     "output_type": "stream",
     "text": [
      "[10  1]\n"
     ]
    }
   ],
   "source": [
    "print(vstacked[:, 0])"
   ]
  },
  {
   "cell_type": "code",
   "execution_count": 67,
   "id": "0bd90ed9",
   "metadata": {},
   "outputs": [
    {
     "name": "stdout",
     "output_type": "stream",
     "text": [
      "[20 30]\n"
     ]
    }
   ],
   "source": [
    "print(vstacked[0, 1:3])"
   ]
  },
  {
   "cell_type": "code",
   "execution_count": 68,
   "id": "b8424757",
   "metadata": {},
   "outputs": [
    {
     "name": "stdout",
     "output_type": "stream",
     "text": [
      "[[20 30]\n",
      " [ 2  3]]\n"
     ]
    }
   ],
   "source": [
    "print(vstacked[:, 1:3])"
   ]
  },
  {
   "cell_type": "markdown",
   "id": "5ed435b7",
   "metadata": {},
   "source": [
    "### 5.3 Masking & Filtering"
   ]
  },
  {
   "cell_type": "code",
   "execution_count": 84,
   "id": "e2f6825c",
   "metadata": {},
   "outputs": [
    {
     "name": "stdout",
     "output_type": "stream",
     "text": [
      "[False False  True  True  True  True  True  True  True  True]\n"
     ]
    }
   ],
   "source": [
    "arr = np.array([10,20,30,40,50,60,70,80,90,100])\n",
    "\n",
    "mask = arr > 20\n",
    "print(mask)"
   ]
  },
  {
   "cell_type": "code",
   "execution_count": 85,
   "id": "ca6f8023",
   "metadata": {},
   "outputs": [
    {
     "data": {
      "text/plain": [
       "array([ 20,  30,  40,  50,  60,  70,  80,  90, 100])"
      ]
     },
     "execution_count": 85,
     "metadata": {},
     "output_type": "execute_result"
    }
   ],
   "source": [
    "arr[arr >= 20]"
   ]
  },
  {
   "cell_type": "markdown",
   "id": "66c8b5f8",
   "metadata": {},
   "source": [
    "## 6. A note about copies vs 'views'\n",
    "\n",
    "See [Copies and views](https://numpy.org/doc/stable/user/quickstart.html#copies-and-views) in the user guide"
   ]
  },
  {
   "cell_type": "code",
   "execution_count": 87,
   "id": "2d3852f3",
   "metadata": {},
   "outputs": [
    {
     "name": "stdout",
     "output_type": "stream",
     "text": [
      "[30 40 50]\n"
     ]
    }
   ],
   "source": [
    "copy_arr = arr[2:5].copy()\n",
    "print(copy_arr)"
   ]
  },
  {
   "cell_type": "code",
   "execution_count": 88,
   "id": "74b98028",
   "metadata": {},
   "outputs": [
    {
     "name": "stdout",
     "output_type": "stream",
     "text": [
      "[ 30 100  50]\n"
     ]
    }
   ],
   "source": [
    "copy_arr[1] = 100\n",
    "print(copy_arr)"
   ]
  },
  {
   "cell_type": "code",
   "execution_count": 89,
   "id": "20d952a4",
   "metadata": {},
   "outputs": [
    {
     "name": "stdout",
     "output_type": "stream",
     "text": [
      "[ 10  20  30  40  50  60  70  80  90 100]\n"
     ]
    }
   ],
   "source": [
    "print(arr)"
   ]
  },
  {
   "cell_type": "markdown",
   "id": "284c6a23",
   "metadata": {},
   "source": [
    "## 7. Saving NumPy arrays"
   ]
  },
  {
   "cell_type": "code",
   "execution_count": 90,
   "id": "6cbffe08",
   "metadata": {},
   "outputs": [],
   "source": [
    "np.save('the_array.npy', arr)"
   ]
  },
  {
   "cell_type": "code",
   "execution_count": 91,
   "id": "bec3b040",
   "metadata": {},
   "outputs": [
    {
     "name": "stdout",
     "output_type": "stream",
     "text": [
      "[ 10  20  30  40  50  60  70  80  90 100]\n"
     ]
    }
   ],
   "source": [
    "new_array = np.load('the_array.npy')\n",
    "print(new_array)"
   ]
  },
  {
   "cell_type": "markdown",
   "id": "08e868f9",
   "metadata": {},
   "source": [
    "## 8. Why numpy?\n",
    "\n",
    "NumPy is very fast when dealing with large, multidimensional arrays. In the following example, finding the mean pixel value of an image is almost 600 times faster using NumPy compared to loops.\n",
    "\n",
    "### 8.1. Load image as NumPy array"
   ]
  },
  {
   "cell_type": "code",
   "execution_count": 96,
   "id": "e8ddc8f3",
   "metadata": {},
   "outputs": [
    {
     "data": {
      "image/png": "[encoded data removed]",
      "text/plain": [
       "<Figure size 1000x600 with 1 Axes>"
      ]
     },
     "metadata": {},
     "output_type": "display_data"
    }
   ],
   "source": [
    "# Load and display the Fullstack Academy logo\n",
    "import PIL\n",
    "import urllib\n",
    "import matplotlib.pyplot as plt\n",
    "\n",
    "# Load the JPEG image\n",
    "image_url = 'https://raw.githubusercontent.com/gperdrizet/FSA_devops/refs/heads/main/docs/assets/fullstack-academy-logo-full-color-rgb.jpg'\n",
    "logo = np.array(PIL.Image.open(urllib.request.urlopen(image_url)))\n",
    "\n",
    "# Display the image\n",
    "plt.figure(figsize=(10, 6))\n",
    "plt.imshow(logo)\n",
    "plt.axis('off')\n",
    "plt.show()"
   ]
  },
  {
   "cell_type": "code",
   "execution_count": 22,
   "id": "d8a9bc54",
   "metadata": {},
   "outputs": [
    {
     "name": "stdout",
     "output_type": "stream",
     "text": [
      "Image is type: <class 'numpy.ndarray'>\n",
      "Image array shape: (893, 3000, 3)\n"
     ]
    }
   ],
   "source": [
    "print(f\"Image is type: {type(logo)}\")\n",
    "print(f\"Image array shape: {logo.shape}\")"
   ]
  },
  {
   "cell_type": "markdown",
   "id": "95487cb0",
   "metadata": {},
   "source": [
    "### 8.2. Calculate the average pixel value\n",
    "\n",
    "#### With Python only"
   ]
  },
  {
   "cell_type": "code",
   "execution_count": 92,
   "id": "5058c433",
   "metadata": {},
   "outputs": [
    {
     "name": "stdout",
     "output_type": "stream",
     "text": [
      "Method 1 - Standard Python (scaled):\n",
      "Average pixel value: 189.249193\n",
      "Time taken: 4.130554 seconds\n"
     ]
    }
   ],
   "source": [
    "import time\n",
    "\n",
    "# Method 1: Standard Python approach (with overflow prevention)\n",
    "start_time = time.time()\n",
    "\n",
    "# Scale pixel values to prevent overflow\n",
    "logo_scaled = logo.astype(float) / 255.0\n",
    "\n",
    "# Accumulator for pixel sum\n",
    "pixel_sum = 0.0\n",
    "\n",
    "# Nested loops through all dimensions\n",
    "for i in range(logo_scaled.shape[0]):\n",
    "    for j in range(logo_scaled.shape[1]):\n",
    "        for k in range(logo_scaled.shape[2]):\n",
    "            pixel_sum += logo_scaled[i, j, k]\n",
    "\n",
    "# Calculate average\n",
    "total_pixels = logo_scaled.shape[0] * logo_scaled.shape[1] * logo_scaled.shape[2]\n",
    "python_average = pixel_sum / total_pixels\n",
    "\n",
    "# Scale back to original range\n",
    "python_average_scaled = python_average * 255.0\n",
    "python_time = time.time() - start_time\n",
    "\n",
    "print(f\"Method 1 - Standard Python (scaled):\")\n",
    "print(f\"Average pixel value: {python_average_scaled:.6f}\")\n",
    "print(f\"Time taken: {python_time:.6f} seconds\")"
   ]
  },
  {
   "cell_type": "markdown",
   "id": "8f6a885e",
   "metadata": {},
   "source": [
    "#### With NumPy"
   ]
  },
  {
   "cell_type": "code",
   "execution_count": 93,
   "id": "3cc51ca4",
   "metadata": {},
   "outputs": [
    {
     "name": "stdout",
     "output_type": "stream",
     "text": [
      "Method 2 - NumPy:\n",
      "Average pixel value: 189.249193\n",
      "Time taken: 0.006361 seconds\n"
     ]
    }
   ],
   "source": [
    "# Method 2: NumPy approach\n",
    "start_time = time.time()\n",
    "\n",
    "numpy_average = np.mean(logo)\n",
    "\n",
    "numpy_time = time.time() - start_time\n",
    "\n",
    "print(f\"Method 2 - NumPy:\")\n",
    "print(f\"Average pixel value: {numpy_average:.6f}\")\n",
    "print(f\"Time taken: {numpy_time:.6f} seconds\")"
   ]
  },
  {
   "cell_type": "markdown",
   "id": "1944ea6c",
   "metadata": {},
   "source": [
    "### 8.3. Compare performance"
   ]
  },
  {
   "cell_type": "code",
   "execution_count": 94,
   "id": "5c85f89a",
   "metadata": {},
   "outputs": [
    {
     "name": "stdout",
     "output_type": "stream",
     "text": [
      "Comparison:\n",
      "NumPy is 649.38x faster than standard Python\n",
      "Speed improvement: 99.85%\n"
     ]
    }
   ],
   "source": [
    "# Compare results\n",
    "print(\"Comparison:\")\n",
    "print(f\"NumPy is {python_time / numpy_time:.2f}x faster than standard Python\")\n",
    "print(f\"Speed improvement: {((python_time - numpy_time) / python_time * 100):.2f}%\")"
   ]
  },
  {
   "cell_type": "code",
   "execution_count": null,
   "id": "274bd9ad",
   "metadata": {},
   "outputs": [],
   "source": []
  }
 ],
 "metadata": {
  "kernelspec": {
   "display_name": ".venv",
   "language": "python",
   "name": "python3"
  },
  "language_info": {
   "codemirror_mode": {
    "name": "ipython",
    "version": 3
   },
   "file_extension": ".py",
   "mimetype": "text/x-python",
   "name": "python",
   "nbconvert_exporter": "python",
   "pygments_lexer": "ipython3",
   "version": "3.12.3"
  }
 },
 "nbformat": 4,
 "nbformat_minor": 5
}
